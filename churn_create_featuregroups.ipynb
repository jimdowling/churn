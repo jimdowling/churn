{
 "cells": [
  {
   "cell_type": "markdown",
   "metadata": {},
   "source": [
    "# Telecom Customer Churn Prediction Feature Engineering"
   ]
  },
  {
   "cell_type": "markdown",
   "metadata": {},
   "source": [
    "This tutorial is based on [this](https://www.kaggle.com/pavanraj159/telecom-customer-churn-prediction/comments#6.-Model-Performances) Kaggle notebook and [this](https://github.com/gojek/feast/tree/master/examples/feast-xgboost-churn-prediction-tutorial) Feast notebook"
   ]
  },
  {
   "cell_type": "markdown",
   "metadata": {
    "_uuid": "fa7e507381a982dfb9bcba253537c50ecd956230"
   },
   "source": [
    "## 1. Churn Feature Engineering"
   ]
  },
  {
   "cell_type": "code",
   "execution_count": 1,
   "metadata": {
    "_cell_guid": "b1076dfc-b9ad-4769-8c92-a6c4dae69d19",
    "_kg_hide-input": false,
    "_uuid": "8f2839f25d086af736a60e9eeb907d3b93b6e0e5"
   },
   "outputs": [
    {
     "name": "stdout",
     "output_type": "stream",
     "text": [
      "Starting Spark application\n"
     ]
    },
    {
     "data": {
      "text/html": [
       "<table>\n",
       "<tr><th>ID</th><th>YARN Application ID</th><th>Kind</th><th>State</th><th>Spark UI</th><th>Driver log</th></tr><tr><td>1</td><td>application_1601373987661_0005</td><td>pyspark</td><td>idle</td><td><a target=\"_blank\" href=\"http://resourcemanager.service.consul:8088/proxy/application_1601373987661_0005/\">Link</a></td><td><a target=\"_blank\" href=\"http://mhead.h.w:8042/node/containerlogs/container_e01_1601373987661_0005_01_000001/demo_ml_meb10000__meb10000\">Link</a></td></tr></table>"
      ],
      "text/plain": [
       "<IPython.core.display.HTML object>"
      ]
     },
     "metadata": {},
     "output_type": "display_data"
    },
    {
     "name": "stdout",
     "output_type": "stream",
     "text": [
      "SparkSession available as 'spark'.\n"
     ]
    },
    {
     "name": "stderr",
     "output_type": "stream",
     "text": [
      "An error was encountered:\n",
      "No module named 'slugify'\n",
      "Traceback (most recent call last):\n",
      "ModuleNotFoundError: No module named 'slugify'\n",
      "\n"
     ]
    }
   ],
   "source": [
    "from hops import pandas_helper as pandas\n",
    "from hops import featurestore\n",
    "import pandas as pd\n",
    "import numpy as np\n",
    "import os\n",
    "import itertools\n",
    "import warnings\n",
    "warnings.filterwarnings(\"ignore\")\n",
    "import sklearn # Tested with 0.22.1\n",
    "from slugify import slugify\n",
    "import s3fs"
   ]
  },
  {
   "cell_type": "markdown",
   "metadata": {},
   "source": [
    "### 1.1 Data"
   ]
  },
  {
   "cell_type": "code",
   "execution_count": 2,
   "metadata": {
    "_cell_guid": "79c7e3d0-c299-4dcb-8224-4455121ee9b0",
    "_uuid": "d629ff2d2480ee46fbb7e2d37f6b5fab8052498a"
   },
   "outputs": [
    {
     "name": "stderr",
     "output_type": "stream",
     "text": [
      "An error was encountered:\n",
      "Missing optional dependency 's3fs'. The s3fs package is required to handle s3 files. Use pip or conda to install s3fs.\n",
      "Traceback (most recent call last):\n",
      "  File \"/srv/hops/anaconda/envs/theenv/lib/python3.6/site-packages/pandas/io/parsers.py\", line 676, in parser_f\n",
      "    return _read(filepath_or_buffer, kwds)\n",
      "  File \"/srv/hops/anaconda/envs/theenv/lib/python3.6/site-packages/pandas/io/parsers.py\", line 431, in _read\n",
      "    filepath_or_buffer, encoding, compression\n",
      "  File \"/srv/hops/anaconda/envs/theenv/lib/python3.6/site-packages/pandas/io/common.py\", line 182, in get_filepath_or_buffer\n",
      "    from pandas.io import s3\n",
      "  File \"/srv/hops/anaconda/envs/theenv/lib/python3.6/site-packages/pandas/io/s3.py\", line 9, in <module>\n",
      "    \"s3fs\", extra=\"The s3fs package is required to handle s3 files.\"\n",
      "  File \"/srv/hops/anaconda/envs/theenv/lib/python3.6/site-packages/pandas/compat/_optional.py\", line 92, in import_optional_dependency\n",
      "    raise ImportError(msg) from None\n",
      "ImportError: Missing optional dependency 's3fs'. The s3fs package is required to handle s3 files. Use pip or conda to install s3fs.\n",
      "\n"
     ]
    }
   ],
   "source": [
    "#telcom = pd.read_csv('http://feast-examples.storage.googleapis.com/telco-churn-xgboost/telco_customer_churn.csv')\n",
    "#telcom = pandas.read_csv('Resources/churn/telco_customer_churn.csv')\n",
    "telcom = pd.read_csv('s3://sagemakerjim/telco_customer_churn.csv')\n",
    "pd.set_option('display.max_columns', 500)\n",
    "pd.set_option('display.width', 2000)\n",
    "telcom.head(5)"
   ]
  },
  {
   "cell_type": "markdown",
   "metadata": {
    "_uuid": "c8c010f36e29c116c6662301b08b0b0019d6e22e"
   },
   "source": [
    "### 1.2 Data Manipulation"
   ]
  },
  {
   "cell_type": "code",
   "execution_count": 3,
   "metadata": {
    "_uuid": "8b10c13086dff7182e399b849e31bc03df54a14e"
   },
   "outputs": [
    {
     "name": "stderr",
     "output_type": "stream",
     "text": [
      "An error was encountered:\n",
      "name 'telcom' is not defined\n",
      "Traceback (most recent call last):\n",
      "NameError: name 'telcom' is not defined\n",
      "\n"
     ]
    }
   ],
   "source": [
    "# Replacing spaces with null values in total charges column\n",
    "telcom['total_charges'] = telcom[\"total_charges\"].replace(\" \",np.nan)\n",
    "\n",
    "# Dropping null values from total charges column which contain .15% missing data \n",
    "telcom = telcom[telcom[\"total_charges\"].notnull()]\n",
    "telcom = telcom.reset_index()[telcom.columns]\n",
    "\n",
    "# Convert to float type\n",
    "telcom[\"total_charges\"] = telcom[\"total_charges\"].astype(float)\n",
    "\n",
    "# Replace 'No internet service' to No for the following columns\n",
    "replace_cols = [ 'online_security', 'online_backup', 'device_protection',\n",
    "                'tech_support','streaming_tv', 'streaming_movies']\n",
    "for i in replace_cols : \n",
    "    telcom[i]  = telcom[i].replace({'internet_service' : 'No'})\n",
    "    \n",
    "# Replace binary values with strings\n",
    "telcom[\"senior_citizen\"] = telcom[\"senior_citizen\"].replace({1:\"Yes\",0:\"No\"})\n",
    "\n",
    "# Tenure to categorical column\n",
    "def tenure_lab(telcom) :\n",
    "    \n",
    "    if telcom[\"tenure\"] <= 12 :\n",
    "        return \"Tenure_0-12\"\n",
    "    elif (telcom[\"tenure\"] > 12) & (telcom[\"tenure\"] <= 24 ):\n",
    "        return \"Tenure_12-24\"\n",
    "    elif (telcom[\"tenure\"] > 24) & (telcom[\"tenure\"] <= 48) :\n",
    "        return \"Tenure_24-48\"\n",
    "    elif (telcom[\"tenure\"] > 48) & (telcom[\"tenure\"] <= 60) :\n",
    "        return \"Tenure_48-60\"\n",
    "    elif telcom[\"tenure\"] > 60 :\n",
    "        return \"Tenure_gt_60\"\n",
    "telcom[\"tenure_group\"] = telcom.apply(lambda telcom:tenure_lab(telcom),\n",
    "                                      axis = 1)\n",
    "\n",
    "# Separating churn and non churn customers\n",
    "churn     = telcom[telcom[\"churn\"] == \"Yes\"]\n",
    "not_churn = telcom[telcom[\"churn\"] == \"No\"]\n",
    "\n",
    "# Separating catagorical and numerical columns\n",
    "Id_col     = ['customer_id']\n",
    "target_col = [\"churn\"]\n",
    "cat_cols   = telcom.nunique()[telcom.nunique() < 6].keys().tolist()\n",
    "cat_cols   = [x for x in cat_cols if x not in target_col]\n",
    "num_cols   = [x for x in telcom.columns if x not in cat_cols + target_col + Id_col]\n",
    "\n",
    "telcom.head()"
   ]
  },
  {
   "cell_type": "markdown",
   "metadata": {
    "_uuid": "6dfa77b43fe1a1a301bab65186c2a9f90245ab7d"
   },
   "source": [
    "### 1.3 Data Processing"
   ]
  },
  {
   "cell_type": "code",
   "execution_count": 4,
   "metadata": {
    "_uuid": "8921591320c5e336ec5a2e1efc5ed3cb0f9ec1b2"
   },
   "outputs": [
    {
     "name": "stderr",
     "output_type": "stream",
     "text": [
      "An error was encountered:\n",
      "name 'telcom' is not defined\n",
      "Traceback (most recent call last):\n",
      "NameError: name 'telcom' is not defined\n",
      "\n"
     ]
    }
   ],
   "source": [
    "from sklearn.preprocessing import LabelEncoder\n",
    "from sklearn.preprocessing import StandardScaler\n",
    "\n",
    "# Customer id col\n",
    "Id_col     = ['customer_id']\n",
    "\n",
    "# Target columns\n",
    "target_col = [\"churn\"]\n",
    "\n",
    "# Categorical columns\n",
    "cat_cols   = telcom.nunique()[telcom.nunique() < 6].keys().tolist()\n",
    "cat_cols   = [x for x in cat_cols if x not in target_col]\n",
    "\n",
    "# Numerical columns\n",
    "num_cols   = [x for x in telcom.columns if x not in cat_cols + target_col + Id_col]\n",
    "\n",
    "# Binary columns with 2 values\n",
    "bin_cols   = telcom.nunique()[telcom.nunique() == 2].keys().tolist()\n",
    "\n",
    "# Columns more than 2 values\n",
    "multi_cols = [i for i in cat_cols if i not in bin_cols]\n",
    "\n",
    "# Label encoding Binary columns\n",
    "le = LabelEncoder()\n",
    "for i in bin_cols :\n",
    "    telcom[i] = le.fit_transform(telcom[i])\n",
    "    \n",
    "# Duplicating columns for multi value columns\n",
    "telcom = pd.get_dummies(data = telcom,columns = multi_cols )\n",
    "\n",
    "# Scaling Numerical columns\n",
    "std = StandardScaler()\n",
    "scaled = std.fit_transform(telcom[num_cols])\n",
    "scaled = pd.DataFrame(scaled,columns=num_cols)\n",
    "\n",
    "# Dropping original values merging scaled values for numerical columns\n",
    "df_telcom_og = telcom.copy()\n",
    "telcom = telcom.drop(columns = num_cols,axis = 1)\n",
    "telcom = telcom.merge(scaled,left_index=True,right_index=True,how = \"left\")\n",
    "\n",
    "# Clean up column names\n",
    "telcom.columns = [slugify(col, lowercase=True, separator='_') for col in telcom.columns]\n",
    "telcom.columns = map(str.lower, telcom.columns)\n",
    "telcom.head()"
   ]
  },
  {
   "cell_type": "markdown",
   "metadata": {
    "_uuid": "9ec25cff71c0eb0f0c839a726cb06cb43462a53f"
   },
   "source": [
    "### 1.4 Create FeatureGroups"
   ]
  },
  {
   "cell_type": "code",
   "execution_count": 5,
   "metadata": {
    "scrolled": true
   },
   "outputs": [
    {
     "name": "stderr",
     "output_type": "stream",
     "text": [
      "An error was encountered:\n",
      "name 'telcom' is not defined\n",
      "Traceback (most recent call last):\n",
      "NameError: name 'telcom' is not defined\n",
      "\n"
     ]
    }
   ],
   "source": [
    "from hops import featurestore\n",
    "featurestore.create_featuregroup(telcom, \"telcom_featuregroup\", description=\"Telecom churn prediction feature group\", online=True)"
   ]
  },
  {
   "cell_type": "code",
   "execution_count": 6,
   "metadata": {},
   "outputs": [
    {
     "name": "stderr",
     "output_type": "stream",
     "text": [
      "An error was encountered:\n",
      "The featuregroup telcom_featuregroup with version: 1 was not found in the feature store None\n",
      "Traceback (most recent call last):\n",
      "  File \"/srv/hops/anaconda/envs/theenv/lib/python3.6/site-packages/hops/featurestore.py\", line 2189, in set_featuregroup_tag\n",
      "    core._do_add_tag(name, tag, value, featurestore, version, constants.REST_CONFIG.HOPSWORKS_FEATUREGROUPS_RESOURCE)\n",
      "  File \"/srv/hops/anaconda/envs/theenv/lib/python3.6/site-packages/hops/featurestore_impl/core.py\", line 1355, in _do_add_tag\n",
      "    id = _get_featuregroup_id(featurestore, name, version)\n",
      "  File \"/srv/hops/anaconda/envs/theenv/lib/python3.6/site-packages/hops/featurestore_impl/core.py\", line 228, in _get_featuregroup_id\n",
      "    featurestore))\n",
      "hops.featurestore_impl.exceptions.exceptions.FeaturegroupNotFound: The featuregroup telcom_featuregroup with version: 1 was not found in the feature store None\n",
      "\n"
     ]
    }
   ],
   "source": [
    "featurestore.set_featuregroup_tag(\"telcom_featuregroup\", \"privacy_level\", \"pii\")"
   ]
  },
  {
   "cell_type": "code",
   "execution_count": null,
   "metadata": {},
   "outputs": [],
   "source": []
  }
 ],
 "metadata": {
  "kernelspec": {
   "display_name": "PySpark",
   "language": "python",
   "name": "pysparkkernel"
  },
  "language_info": {
   "codemirror_mode": {
    "name": "python",
    "version": 3
   },
   "mimetype": "text/x-python",
   "name": "pyspark",
   "pygments_lexer": "python3"
  },
  "pycharm": {
   "stem_cell": {
    "cell_type": "raw",
    "metadata": {
     "collapsed": false
    },
    "source": []
   }
  }
 },
 "nbformat": 4,
 "nbformat_minor": 4
}
