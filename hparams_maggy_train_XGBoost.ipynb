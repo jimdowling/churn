{
 "cells": [
  {
   "cell_type": "markdown",
   "metadata": {},
   "source": [
    "# Train Telecom Customer Churn Prediction with XGBoost"
   ]
  },
  {
   "cell_type": "markdown",
   "metadata": {},
   "source": [
    "This tutorial is based on [this](https://www.kaggle.com/pavanraj159/telecom-customer-churn-prediction/comments#6.-Model-Performances) Kaggle notebook and [this](https://github.com/gojek/feast/tree/master/examples/feast-xgboost-churn-prediction-tutorial) Feast notebook"
   ]
  },
  {
   "cell_type": "code",
   "execution_count": 1,
   "metadata": {},
   "outputs": [
    {
     "name": "stdout",
     "output_type": "stream",
     "text": [
      "Starting Spark application\n"
     ]
    },
    {
     "data": {
      "text/html": [
       "<table>\n",
       "<tr><th>ID</th><th>YARN Application ID</th><th>Kind</th><th>State</th><th>Spark UI</th><th>Driver log</th></tr><tr><td>11</td><td>application_1601373987661_0017</td><td>pyspark</td><td>idle</td><td><a target=\"_blank\" href=\"http://resourcemanager.service.consul:8088/proxy/application_1601373987661_0017/\">Link</a></td><td><a target=\"_blank\" href=\"http://mhead.h.w:8042/node/containerlogs/container_e01_1601373987661_0017_01_000001/demo_ml_meb10000__meb10000\">Link</a></td></tr></table>"
      ],
      "text/plain": [
       "<IPython.core.display.HTML object>"
      ]
     },
     "metadata": {},
     "output_type": "display_data"
    },
    {
     "name": "stdout",
     "output_type": "stream",
     "text": [
      "SparkSession available as 'spark'.\n"
     ]
    }
   ],
   "source": [
    "from hops import featurestore"
   ]
  },
  {
   "cell_type": "code",
   "execution_count": 2,
   "metadata": {},
   "outputs": [
    {
     "name": "stdout",
     "output_type": "stream",
     "text": [
      "Hyperparameter added: max_depth\n",
      "Hyperparameter added: learning_rate\n",
      "Hyperparameter added: gamma\n",
      "Hyperparameter added: reg_lambda"
     ]
    }
   ],
   "source": [
    "from maggy import Searchspace\n",
    "\n",
    "# The searchspace can be instantiated with parameters\n",
    "sp = Searchspace(max_depth=('INTEGER', [2, 50]), learning_rate=('DISCRETE', [0.9, 0.5, 0.2, 0.1, 0.01, 0.001]), gamma=('DOUBLE', [0, 5]), reg_lambda=('DOUBLE', [0, 5]))"
   ]
  },
  {
   "cell_type": "markdown",
   "metadata": {},
   "source": [
    "Define training logic in wrapper function:"
   ]
  },
  {
   "cell_type": "code",
   "execution_count": 3,
   "metadata": {
    "_cell_guid": "b1076dfc-b9ad-4769-8c92-a6c4dae69d19",
    "_kg_hide-input": false,
    "_uuid": "8f2839f25d086af736a60e9eeb907d3b93b6e0e5"
   },
   "outputs": [],
   "source": [
    "def train(max_depth, learning_rate, gamma, reg_lambda):\n",
    "    import pandas as pd\n",
    "    from hops import hdfs, featurestore\n",
    "    from hops import pandas_helper as pandas\n",
    "    from hops import model as hopsmodel\n",
    "    import pickle\n",
    "    import warnings\n",
    "    warnings.filterwarnings(\"ignore\")\n",
    "    from sklearn.model_selection import train_test_split\n",
    "    from sklearn.metrics import accuracy_score, classification_report\n",
    "    from xgboost import XGBClassifier\n",
    "    from torch.utils.tensorboard import SummaryWriter\n",
    "    from maggy import tensorboard\n",
    "\n",
    "    # Get path to training dataset\n",
    "    file_path = featurestore.get_training_dataset_path(\"telco_churn\")\n",
    "    telecom_df = pandas.read_csv(hdfs.get_plain_path([path for path in hdfs.ls(file_path) if \".csv\" in path][0]))\n",
    "    Id_col     = ['customer_id']\n",
    "    target_col = [\"churn\"]\n",
    "    \n",
    "    # Split into a train and test set\n",
    "    train, test = train_test_split(telecom_df,test_size = .25 ,random_state = 111)\n",
    "\n",
    "    # Seperating dependent and independent variables\n",
    "    cols    = [i for i in telecom_df.columns if i not in Id_col + target_col]\n",
    "    training_x = train[cols]\n",
    "    training_y = train[target_col]\n",
    "    testing_x  = test[cols]\n",
    "    testing_y  = test[target_col]    \n",
    "\n",
    "    # Instantiate classifier with hyperparameters as variables\n",
    "    model = XGBClassifier(base_score=0.5, booster='gbtree', colsample_bylevel=1,\n",
    "                          colsample_bytree=1, gamma=gamma, learning_rate=learning_rate, max_delta_step=0,\n",
    "                          max_depth=max_depth, min_child_weight=1, missing=None, n_estimators=100,\n",
    "                          n_jobs=1, nthread=None, objective='binary:logistic', random_state=0,\n",
    "                          reg_alpha=0, reg_lambda=reg_lambda, scale_pos_weight=1, seed=None,\n",
    "                          silent=True, subsample=1)\n",
    "\n",
    "    # Train model\n",
    "    model.fit(training_x, training_y)\n",
    "    predictions = model.predict(testing_x)\n",
    "    probabilities = model.predict_proba(testing_x)    \n",
    "    \n",
    "    coefficients = pd.DataFrame(model.feature_importances_)\n",
    "    column_df = pd.DataFrame(cols)\n",
    "    coef_sumry = (pd.merge(coefficients, column_df, left_index=True,\n",
    "                           right_index=True, how=\"left\"))\n",
    "    coef_sumry.columns = [\"coefficients\", \"features\"]\n",
    "    coef_sumry = coef_sumry.sort_values(by=\"coefficients\", ascending=False)\n",
    "\n",
    "    accuracy=accuracy_score(testing_y, predictions)\n",
    "\n",
    "    print(\"\\n Classification report : \\n\", classification_report(testing_y, predictions))\n",
    "    print(\"Accuracy   Score : \", accuracy)\n",
    "\n",
    "    # use any tensorboard writer\n",
    "    writer = SummaryWriter(tensorboard.logdir()+\"/validation\")\n",
    "    writer.add_scalar('epoch_acc', accuracy, 1)\n",
    "    writer.close()\n",
    "    \n",
    "    \n",
    "    MODEL_NAME = \"XGBoost_Churn_Classifier\"\n",
    "    file_name = \"xgb_reg.pkl\"\n",
    "    hdfs_path = \"Resources/xgboost_modeller\"\n",
    "\n",
    "    pickle.dump(model, open(file_name, \"wb\"))\n",
    "    hdfs.mkdir(hdfs_path)\n",
    "    hdfs.copy_to_hdfs(file_name, hdfs_path, overwrite=True)\n",
    "\n",
    "    # test that we can load and use the model\n",
    "    xgb_model_loaded = pickle.load(open(file_name, \"rb\"))\n",
    "    xgb_model_loaded.predict(testing_x)[0] == model.predict(testing_x)[0]\n",
    "\n",
    "    # save to the model registry\n",
    "    hopsmodel.export(hdfs_path, MODEL_NAME, metrics={'accuracy': accuracy})    \n",
    "    \n",
    "    \n",
    "    return accuracy"
   ]
  },
  {
   "cell_type": "code",
   "execution_count": 4,
   "metadata": {},
   "outputs": [
    {
     "name": "stdout",
     "output_type": "stream",
     "text": [
      "Started Maggy Experiment: CHURN, application_1601373987661_0017, run 1\n",
      "\n",
      "------ RandomSearch Results ------ direction(max) \n",
      "BEST combination {\"max_depth\": 11, \"learning_rate\": 0.01, \"gamma\": 2.9992478857741984, \"reg_lambda\": 1.7847427765057688} -- metric 0.8141414141414142\n",
      "WORST combination {\"max_depth\": 47, \"learning_rate\": 0.9, \"gamma\": 1.779845514714643, \"reg_lambda\": 0.6473636401114952} -- metric 0.7686868686868686\n",
      "AVERAGE metric -- 0.7975757575757575\n",
      "EARLY STOPPED Trials -- 0\n",
      "Total job time 0 hours, 1 minutes, 26 seconds\n",
      "\n",
      "Finished ExperimentWARN: Can't reach Maggy server. No progress information and logs available. Job continues running anyway.\n"
     ]
    }
   ],
   "source": [
    "from maggy import experiment\n",
    "result = experiment.lagom(train, \n",
    "                           searchspace=sp, \n",
    "                           optimizer='randomsearch', \n",
    "                           direction='max',\n",
    "                           num_trials=10, \n",
    "                           name='CHURN',\n",
    "                           hb_interval=5, \n",
    "                           es_interval=5,\n",
    "                           es_min=5\n",
    "                          )"
   ]
  },
  {
   "cell_type": "code",
   "execution_count": null,
   "metadata": {},
   "outputs": [],
   "source": []
  }
 ],
 "metadata": {
  "kernelspec": {
   "display_name": "PySpark",
   "language": "python",
   "name": "pysparkkernel"
  },
  "language_info": {
   "codemirror_mode": {
    "name": "python",
    "version": 3
   },
   "mimetype": "text/x-python",
   "name": "pyspark",
   "pygments_lexer": "python3"
  },
  "pycharm": {
   "stem_cell": {
    "cell_type": "raw",
    "metadata": {
     "collapsed": false
    },
    "source": []
   }
  }
 },
 "nbformat": 4,
 "nbformat_minor": 4
}
